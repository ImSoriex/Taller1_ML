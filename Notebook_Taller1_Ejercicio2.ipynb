{
 "cells": [
  {
   "cell_type": "code",
   "execution_count": null,
   "id": "3c127f2e",
   "metadata": {},
   "outputs": [],
   "source": [
    "from sklearn.datasets import load_breast_cancer\n",
    "import pandas as pd\n",
    "cancer = load_breast_cancer()\n",
    "df_cancer = pd.DataFrame(cancer.data, columns=cancer.feature_names)"
   ]
  },
  {
   "cell_type": "code",
   "execution_count": null,
   "id": "7d5464c4",
   "metadata": {},
   "outputs": [],
   "source": [
    "y_bin = (pd.Series(cancer.target) == 0).astype(int)\n",
    "df_cancer['y'] = y_bin\n",
    "\n",
    "df_cancer_sample = df_cancer.sample(n=400, random_state=4713)"
   ]
  },
  {
   "cell_type": "code",
   "execution_count": null,
   "id": "59a87e2e",
   "metadata": {},
   "outputs": [],
   "source": [
    "print(\"Distribución de clases (0=benigno, 1=maligno):\")\n",
    "print(df_cancer_sample['y'].value_counts())"
   ]
  },
  {
   "cell_type": "code",
   "execution_count": null,
   "id": "c121d0cd",
   "metadata": {},
   "outputs": [],
   "source": [
    "import matplotlib.pyplot as plt\n",
    "import seaborn as sns\n",
    "\n",
    "plt.figure(figsize=(5,4))\n",
    "sns.countplot(x='y', data=df_cancer_sample, hue='y', palette='Set2', legend=False)\n",
    "plt.title(\"Distribución de clases (0=benigno, 1=maligno)\")\n",
    "plt.xlabel(\"Clase\")\n",
    "plt.ylabel(\"Frecuencia\")\n",
    "plt.show()"
   ]
  },
  {
   "cell_type": "code",
   "execution_count": null,
   "id": "789bd2e7",
   "metadata": {},
   "outputs": [],
   "source": [
    "cols_cmp = ['mean radius', 'mean texture', 'mean perimeter', 'mean area']\n",
    "\n",
    "fig, axes = plt.subplots(2, 2, figsize=(14, 10))  # 2 filas, 2 columnas\n",
    "\n",
    "for i, c in enumerate(cols_cmp):\n",
    "    ax = axes[i // 2, i % 2]  # posiciona en la grilla\n",
    "    sns.histplot(\n",
    "        data=df_cancer_sample,\n",
    "        x=c,\n",
    "        hue='y',\n",
    "        bins=30,\n",
    "        kde=True,\n",
    "        palette='Set1',\n",
    "        alpha=0.6,\n",
    "        ax=ax\n",
    "    )\n",
    "    ax.set_title(f\"Distribución de {c} por clase\")\n",
    "    ax.set_xlabel(c)\n",
    "    ax.set_ylabel(\"Frecuencia\")\n",
    "    ax.legend(title=\"Clase\", labels=[\"Benigno (0)\", \"Maligno (1)\"])\n",
    "\n",
    "plt.tight_layout()\n",
    "plt.show()\n",
    "\n"
   ]
  },
  {
   "cell_type": "code",
   "execution_count": null,
   "id": "37d3c089",
   "metadata": {},
   "outputs": [],
   "source": [
    "from sklearn.model_selection import train_test_split\n",
    "from sklearn.preprocessing import StandardScaler\n",
    "\n",
    "cols_sel = ['mean radius', 'mean texture', 'mean perimeter', 'mean area']\n",
    "X_sel = df_cancer_sample[cols_sel].values\n",
    "y = df_cancer_sample['y'].values"
   ]
  },
  {
   "cell_type": "markdown",
   "id": "8f49b0a1",
   "metadata": {},
   "source": [
    "Train/Test Split"
   ]
  },
  {
   "cell_type": "code",
   "execution_count": null,
   "id": "6e8efb41",
   "metadata": {},
   "outputs": [],
   "source": [
    "X_train, X_test, y_train, y_test = train_test_split(\n",
    "    X_sel, y, test_size=0.25, random_state=4713, stratify=y\n",
    ")"
   ]
  },
  {
   "cell_type": "markdown",
   "id": "e202967e",
   "metadata": {},
   "source": [
    "Estandarizacion"
   ]
  },
  {
   "cell_type": "code",
   "execution_count": null,
   "id": "782ae1ab",
   "metadata": {},
   "outputs": [],
   "source": [
    "scaler = StandardScaler()\n",
    "X_train_std = scaler.fit_transform(X_train)\n",
    "X_test_std  = scaler.transform(X_test)"
   ]
  },
  {
   "cell_type": "markdown",
   "id": "a98b1e63",
   "metadata": {},
   "source": [
    "Ajustar modelos logísticos."
   ]
  },
  {
   "cell_type": "code",
   "execution_count": null,
   "id": "c52a64b3",
   "metadata": {},
   "outputs": [],
   "source": [
    "import statsmodels.api as sm\n",
    "X_train_sm = sm.add_constant(X_train_std, has_constant='add')\n",
    "logit_model = sm.GLM(y_train, X_train_sm, family=sm.families.Binomial())\n",
    "res_logit = logit_model.fit()\n",
    "\n",
    "print(res_logit.summary())"
   ]
  },
  {
   "cell_type": "code",
   "execution_count": null,
   "id": "70f04c55",
   "metadata": {},
   "outputs": [],
   "source": [
    "from sklearn.metrics import accuracy_score, recall_score, f1_score, confusion_matrix, classification_report\n",
    "import numpy as np\n",
    "\n",
    "coefs = res_logit.params\n",
    "or_values = np.exp(coefs)\n",
    "\n",
    "print(\"Odds Ratios (exp(coef)):\")\n",
    "print(or_values)"
   ]
  },
  {
   "cell_type": "code",
   "execution_count": null,
   "id": "3299ccdd",
   "metadata": {},
   "outputs": [],
   "source": [
    "X_test_sm = sm.add_constant(X_test_std, has_constant='add')\n",
    "y_pred_prob = res_logit.predict(X_test_sm)\n",
    "y_pred = (y_pred_prob >= 0.5).astype(int)"
   ]
  },
  {
   "cell_type": "code",
   "execution_count": null,
   "id": "1e9589e4",
   "metadata": {},
   "outputs": [],
   "source": [
    "print(\"\\nAccuracy:\", accuracy_score(y_test, y_pred))\n",
    "print(\"Recall (clase 1 = maligno):\", recall_score(y_test, y_pred))\n",
    "print(\"F1-score:\", f1_score(y_test, y_pred))"
   ]
  },
  {
   "cell_type": "code",
   "execution_count": null,
   "id": "4e0a2efa",
   "metadata": {},
   "outputs": [],
   "source": [
    "cm = confusion_matrix(y_test, y_pred, labels=[0,1])\n",
    "\n",
    "plt.figure(figsize=(5,4))\n",
    "sns.heatmap(cm, annot=True, fmt=\"d\", cmap=\"Blues\", cbar=False,\n",
    "            xticklabels=[\"Benigno (0)\", \"Maligno (1)\"],\n",
    "            yticklabels=[\"Benigno (0)\", \"Maligno (1)\"])\n",
    "plt.xlabel(\"Predicción\")\n",
    "plt.ylabel(\"Real\")\n",
    "plt.title(\"Matriz de Confusión\")\n",
    "plt.show()"
   ]
  },
  {
   "cell_type": "code",
   "execution_count": null,
   "id": "2c7bcbf8",
   "metadata": {},
   "outputs": [],
   "source": [
    "print(\"\\nReporte de clasificación:\\n\", classification_report(y_test, y_pred, digits=3))"
   ]
  }
 ],
 "metadata": {
  "kernelspec": {
   "display_name": "Python 3",
   "language": "python",
   "name": "python3"
  },
  "language_info": {
   "codemirror_mode": {
    "name": "ipython",
    "version": 3
   },
   "file_extension": ".py",
   "mimetype": "text/x-python",
   "name": "python",
   "nbconvert_exporter": "python",
   "pygments_lexer": "ipython3",
   "version": "3.13.2"
  }
 },
 "nbformat": 4,
 "nbformat_minor": 5
}
