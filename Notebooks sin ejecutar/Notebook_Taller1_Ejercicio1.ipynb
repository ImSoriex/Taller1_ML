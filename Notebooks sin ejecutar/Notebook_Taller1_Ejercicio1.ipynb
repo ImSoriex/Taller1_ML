{
 "cells": [
  {
   "cell_type": "code",
   "execution_count": null,
   "id": "00fe790d",
   "metadata": {},
   "outputs": [],
   "source": [
    "from sklearn.datasets import fetch_openml\n",
    "boston = fetch_openml(name='boston', version=1, as_frame=True)\n",
    "df_boston = boston.frame\n",
    "\n",
    "df_sample = df_boston.sample(n=300, random_state=4713)\n",
    "print(df_sample.head())"
   ]
  },
  {
   "cell_type": "code",
   "execution_count": null,
   "id": "a20e22a9",
   "metadata": {},
   "outputs": [],
   "source": [
    "import pandas as pd\n",
    "import matplotlib.pyplot as plt\n",
    "import seaborn as sns\n",
    "\n",
    "print(\"Estadísticas descriptivas:\")\n",
    "print(df_sample.describe(include=\"all\"))"
   ]
  },
  {
   "cell_type": "code",
   "execution_count": null,
   "id": "573a8956",
   "metadata": {},
   "outputs": [],
   "source": [
    "corr = df_sample.corr(numeric_only=True)\n",
    "\n",
    "plt.figure(figsize=(12,8))\n",
    "sns.heatmap(corr, cmap=\"coolwarm\", center=0, annot=True)\n",
    "plt.title(\"Matriz de correlación - Muestra Boston (n=300)\")\n",
    "plt.show()\n",
    "\n",
    "# Variables más correlacionadas con MEDV\n",
    "print(\"\\nCorrelaciones con MEDV:\")\n",
    "print(corr['MEDV'].sort_values(ascending=False))"
   ]
  },
  {
   "cell_type": "code",
   "execution_count": null,
   "id": "3813ae28",
   "metadata": {},
   "outputs": [],
   "source": [
    "import matplotlib.pyplot as plt\n",
    "import seaborn as sns\n",
    "\n",
    "cols_plot = ['MEDV','LSTAT','RM','PTRATIO','TAX','CRIM', 'NOX', 'AGE', 'DIS', 'INDUS','B', 'ZN']\n",
    "n = len(cols_plot)\n",
    "fig, axes = plt.subplots(4, 3, figsize=(18, 10))  # 4 filas, 3 columnas\n",
    "\n",
    "for i, c in enumerate(cols_plot):\n",
    "    if c in df_sample.columns:\n",
    "        ax = axes[i // 3, i % 3]\n",
    "        sns.histplot(df_sample[c], bins=30, kde=True, ax=ax)\n",
    "        ax.set_title(f\"Histograma de {c}\")\n",
    "\n",
    "plt.tight_layout()\n",
    "plt.show()"
   ]
  },
  {
   "cell_type": "code",
   "execution_count": null,
   "id": "31afbcaf",
   "metadata": {},
   "outputs": [],
   "source": [
    "top_corr = corr['MEDV'].drop('MEDV').abs().sort_values(ascending=False).head(4).index\n",
    "for c in top_corr:\n",
    "    plt.figure()\n",
    "    sns.scatterplot(x=df_sample[c], y=df_sample['MEDV'])\n",
    "    plt.xlabel(c); plt.ylabel('MEDV')\n",
    "    plt.title(f\"Dispersión: {c} vs MEDV\")\n",
    "    plt.show()"
   ]
  },
  {
   "cell_type": "code",
   "execution_count": null,
   "id": "7351a307",
   "metadata": {},
   "outputs": [],
   "source": [
    "import statsmodels.api as sm\n",
    "from statsmodels.stats.outliers_influence import variance_inflation_factor\n",
    "from statsmodels.stats import diagnostic as diag\n",
    "import scipy.stats as stats\n",
    "import matplotlib.pyplot as plt\n",
    "\n",
    "y = df_sample['MEDV'].values\n",
    "X = df_sample.drop(columns=['MEDV'])\n",
    "X = sm.add_constant(X, has_constant='add')  # intercepto"
   ]
  },
  {
   "cell_type": "code",
   "execution_count": null,
   "id": "41108e76",
   "metadata": {},
   "outputs": [],
   "source": [
    "#import numpy as np\n",
    "import pandas as pd\n",
    "import statsmodels.api as sm\n",
    "\n",
    "# 1) Normaliza el nombre de la variable objetivo (MEDV o medv)\n",
    "target_col = 'MEDV' if 'MEDV' in df_sample.columns else 'medv'\n",
    "\n",
    "# 2) Asegura que TODO sea numérico y sin NaN\n",
    "df_num = df_sample.copy()\n",
    "\n",
    "# Convierte todo a numérico; si hay strings los vuelve NaN\n",
    "for c in df_num.columns:\n",
    "    df_num[c] = pd.to_numeric(df_num[c], errors='coerce')\n",
    "\n",
    "# Elimina filas con NaN (puedes reportar cuántas se fueron)\n",
    "before = len(df_num)\n",
    "df_num = df_num.dropna(axis=0).reset_index(drop=True)\n",
    "print(f\"Filas eliminadas por NaN: {before - len(df_num)}\")\n",
    "\n",
    "# 3) Separa X, y (solo columnas numéricas)\n",
    "y = df_num[target_col].astype(float).values\n",
    "X = df_num.drop(columns=[target_col]).select_dtypes(include=['number']).astype(float)\n",
    "\n",
    "# 4) Agrega intercepto\n",
    "X = sm.add_constant(X, has_constant='add')\n",
    "\n",
    "# 5) Ajusta GLM Gaussiano\n",
    "glm_gauss = sm.GLM(y, X, family=sm.families.Gaussian())\n",
    "res = glm_gauss.fit()\n",
    "print(res.summary())\n"
   ]
  },
  {
   "cell_type": "code",
   "execution_count": null,
   "id": "ae18d8ba",
   "metadata": {},
   "outputs": [],
   "source": [
    "glm_gauss = sm.GLM(y, X, family=sm.families.Gaussian())\n",
    "res = glm_gauss.fit()\n",
    "\n",
    "print(res.summary())  # tabla con coeficientes y p-valores"
   ]
  },
  {
   "cell_type": "code",
   "execution_count": null,
   "id": "7ff6804a",
   "metadata": {},
   "outputs": [],
   "source": [
    "summary_df = res.summary2().tables[1].copy()\n",
    "sig = summary_df[summary_df['P>|z|'] < 0.05]\n",
    "print(\"Variables significativas (p<0.05):\")\n",
    "display(sig[['Coef.', 'Std.Err.', 'P>|z|']])\n"
   ]
  },
  {
   "cell_type": "code",
   "execution_count": null,
   "id": "cbc9a823",
   "metadata": {},
   "outputs": [],
   "source": [
    "ols = sm.OLS(res.model.endog, res.model.exog).fit()\n",
    "print(\"\\nR²:\", round(ols.rsquared, 4))\n",
    "print(\"R² ajustado:\", round(ols.rsquared_adj, 4))\n"
   ]
  },
  {
   "cell_type": "code",
   "execution_count": null,
   "id": "8622fa27",
   "metadata": {},
   "outputs": [],
   "source": [
    "residuals = res.resid_response\n",
    "fitted    = res.fittedvalues"
   ]
  },
  {
   "cell_type": "code",
   "execution_count": null,
   "id": "55e91f26",
   "metadata": {},
   "outputs": [],
   "source": [
    "fig, (ax1, ax2) = plt.subplots(1, 2, figsize=(12,5))\n",
    "stats.probplot(residuals, dist=\"norm\", plot=ax1)\n",
    "ax1.set_title(\"Q-Q plot de residuales\")"
   ]
  },
  {
   "cell_type": "code",
   "execution_count": null,
   "id": "b99e4e4e",
   "metadata": {},
   "outputs": [],
   "source": [
    "\n",
    "fig, (ax1, ax2) = plt.subplots(1, 2, figsize=(12,5))\n",
    "stats.probplot(residuals, dist=\"norm\", plot=ax1)\n",
    "ax1.set_title(\"Q-Q plot de residuales\")\n",
    "\n",
    "ax2.scatter(fitted, residuals, alpha=0.7)\n",
    "ax2.axhline(0, color='red', linestyle='--')\n",
    "ax2.set_xlabel(\"Ajustados\")\n",
    "ax2.set_ylabel(\"Residuales\")\n",
    "ax2.set_title(\"Residuales vs Ajustados\")\n",
    "plt.tight_layout()\n",
    "plt.show()"
   ]
  },
  {
   "cell_type": "code",
   "execution_count": null,
   "id": "565d7a4d",
   "metadata": {},
   "outputs": [],
   "source": [
    "bp_lm, bp_lm_p, bp_f, bp_f_p = diag.het_breuschpagan(residuals, res.model.exog)\n",
    "print(f\"\\nBreusch–Pagan: LM p-value={bp_lm_p:.4f} | F p-value={bp_f_p:.4f}  (p>0.05 sugiere homocedasticidad)\")"
   ]
  },
  {
   "cell_type": "code",
   "execution_count": null,
   "id": "5b720a5e",
   "metadata": {},
   "outputs": [],
   "source": [
    "from statsmodels.stats.stattools import durbin_watson\n",
    "\n",
    "dw = durbin_watson(residuals)\n",
    "print(f\"Durbin-Watson: {dw:.3f} (≈2 sugiere no autocorrelación)\")"
   ]
  },
  {
   "cell_type": "code",
   "execution_count": null,
   "id": "350e864d",
   "metadata": {},
   "outputs": [],
   "source": [
    "X_for_vif = pd.DataFrame(res.model.exog, columns=res.model.exog_names)  # incluye const\n",
    "vif = pd.DataFrame({\n",
    "    \"Variable\": X_for_vif.columns,\n",
    "    \"VIF\": [variance_inflation_factor(X_for_vif.values, i) for i in range(X_for_vif.shape[1])]\n",
    "})\n",
    "print(\"\\nVIF (multicolinealidad):\")\n",
    "display(vif)"
   ]
  }
 ],
 "metadata": {
  "kernelspec": {
   "display_name": "Python 3",
   "language": "python",
   "name": "python3"
  },
  "language_info": {
   "codemirror_mode": {
    "name": "ipython",
    "version": 3
   },
   "file_extension": ".py",
   "mimetype": "text/x-python",
   "name": "python",
   "nbconvert_exporter": "python",
   "pygments_lexer": "ipython3",
   "version": "3.13.3"
  }
 },
 "nbformat": 4,
 "nbformat_minor": 5
}
